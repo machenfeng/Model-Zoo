{
 "cells": [
  {
   "cell_type": "code",
   "execution_count": 1,
   "metadata": {},
   "outputs": [],
   "source": [
    "import time\n",
    "import pickle\n",
    "import numpy as np\n",
    "import pandas as pd\n",
    "from tqdm import tqdm\n",
    "from sklearn.metrics import accuracy_score\n",
    "\n",
    "import torch\n",
    "from torch import nn\n",
    "from torch.autograd import gradcheck\n",
    "from torch.utils.data import DataLoader\n",
    "\n",
    "import utils\n",
    "from utils import DataBuilder\n",
    "from utils import jupyter_args\n",
    "\n",
    "import DE_ATT"
   ]
  },
  {
   "cell_type": "code",
   "execution_count": 2,
   "metadata": {},
   "outputs": [],
   "source": [
    "train = pd.read_csv('data/train.csv')\n",
    "dev = pd.read_csv('data/dev.csv')\n",
    "\n",
    "tokenizer = open('data/word2idx.pkl', 'rb')\n",
    "tokenizer = pickle.load(tokenizer)\n",
    "\n",
    "torch.manual_seed(42)\n",
    "device = 'cuda' if torch.cuda.is_available() else 'cpu'\n",
    "\n",
    "pretrained_weights = open('data/pretrained_weights_42b.pkl', 'rb')\n",
    "pretrained_weights = pickle.load(pretrained_weights)\n",
    "pretrained_weights = torch.FloatTensor(list(pretrained_weights.values()))"
   ]
  },
  {
   "cell_type": "code",
   "execution_count": 3,
   "metadata": {},
   "outputs": [],
   "source": [
    "args = jupyter_args(embed_dim=300, \n",
    "                    hidden_state=200,\n",
    "                    a_length=15,\n",
    "                    b_length=13,\n",
    "                    num_classes=3,\n",
    "                    batch_size=32,\n",
    "                    pretrained_weights=pretrained_weights,\n",
    "                    learning_rate=0.05,\n",
    "                    max_grad_norm=5,\n",
    "                    train_interval=1000,\n",
    "                    epoch_num=10)"
   ]
  },
  {
   "cell_type": "code",
   "execution_count": 4,
   "metadata": {},
   "outputs": [],
   "source": [
    "trainbulider = DataBuilder(train, 'x1', 'x2', args.a_length, args.b_length, tokenizer, use_char=False)\n",
    "trainloader = DataLoader(trainbulider, args.batch_size, shuffle=False)\n",
    "\n",
    "devbulider = DataBuilder(dev, 'x1', 'x2', args.a_length, args.b_length, tokenizer, use_char=False)\n",
    "devloader = DataLoader(devbulider, args.batch_size, shuffle=False)\n",
    "\n",
    "de_att = DE_ATT.model(args).to(device)\n",
    "param = filter(lambda p: p.requires_grad, de_att.parameters())\n",
    "\n",
    "lossfunc = nn.CrossEntropyLoss().to(device)\n",
    "optimizer = torch.optim.Adagrad(param, args.learning_rate, weight_decay=1e-5)"
   ]
  },
  {
   "cell_type": "code",
   "execution_count": 5,
   "metadata": {},
   "outputs": [
    {
     "name": "stdout",
     "output_type": "stream",
     "text": [
      "epoch 0, batches 1000|17168, train-acc 0.469, loss 0.951, para-norm 1625.679, grad-norm 0.433,\n",
      "epoch 0, batches 2000|17168, train-acc 0.500, loss 0.935, para-norm 1820.652, grad-norm 0.417,\n"
     ]
    },
    {
     "ename": "KeyboardInterrupt",
     "evalue": "",
     "output_type": "error",
     "traceback": [
      "\u001b[1;31m---------------------------------------------------------------------------\u001b[0m",
      "\u001b[1;31mKeyboardInterrupt\u001b[0m                         Traceback (most recent call last)",
      "\u001b[1;32m<ipython-input-5-acd31138b622>\u001b[0m in \u001b[0;36m<module>\u001b[1;34m()\u001b[0m\n\u001b[0;32m     31\u001b[0m \u001b[1;33m\u001b[0m\u001b[0m\n\u001b[0;32m     32\u001b[0m         \u001b[0mgrad_norm\u001b[0m \u001b[1;33m**\u001b[0m \u001b[1;36m0.5\u001b[0m\u001b[1;33m\u001b[0m\u001b[0m\n\u001b[1;32m---> 33\u001b[1;33m         \u001b[0mpara_norm\u001b[0m \u001b[1;33m**\u001b[0m \u001b[1;36m0.5\u001b[0m\u001b[1;33m\u001b[0m\u001b[0m\n\u001b[0m\u001b[0;32m     34\u001b[0m \u001b[1;33m\u001b[0m\u001b[0m\n\u001b[0;32m     35\u001b[0m         \u001b[0mshrinkage\u001b[0m \u001b[1;33m=\u001b[0m \u001b[0margs\u001b[0m\u001b[1;33m.\u001b[0m\u001b[0mmax_grad_norm\u001b[0m \u001b[1;33m/\u001b[0m \u001b[0mgrad_norm\u001b[0m\u001b[1;33m\u001b[0m\u001b[0m\n",
      "\u001b[1;31mKeyboardInterrupt\u001b[0m: "
     ]
    }
   ],
   "source": [
    "for i in range(args.epoch_num):\n",
    "    \n",
    "    de_att.train()\n",
    "    for k, (x1, x2, _, __, label) in enumerate(trainloader):\n",
    "        \n",
    "        y_pred = []\n",
    "        y_true = []\n",
    "        loss_data = 0\n",
    "        batch_count = len(trainloader)\n",
    "\n",
    "        x1, x2 = x1.to(device), x2.to(device)\n",
    "        label = label.view(-1).to(device)\n",
    "\n",
    "        optimizer.zero_grad()\n",
    "\n",
    "        logits = de_att(x1, x2)\n",
    "        loss = lossfunc(logits, label)\n",
    "        loss.backward()\n",
    "        \n",
    "        ''' get param and grad norm '''\n",
    "        grad_norm = 0.\n",
    "        para_norm = 0.\n",
    "\n",
    "        for m in de_att.modules():\n",
    "            if isinstance(m, nn.Linear):\n",
    "                grad_norm += m.weight.grad.data.norm() ** 2\n",
    "                para_norm += m.weight.data.norm() ** 2\n",
    "                if m.bias is True:\n",
    "                    grad_norm += m.bias.grad.data.norm() ** 2\n",
    "                    para_norm += m.bias.data.norm() ** 2\n",
    "\n",
    "        grad_norm ** 0.5\n",
    "        para_norm ** 0.5\n",
    "\n",
    "        shrinkage = args.max_grad_norm / grad_norm\n",
    "        \n",
    "        if shrinkage < 1 :\n",
    "            for m in de_att.modules():\n",
    "                if isinstance(m, nn.Linear):\n",
    "                    m.weight.grad.data = m.weight.grad.data * shrinkage\n",
    "                    if m.bias is True:\n",
    "                        m.bias.grad.data = m.bias.grad.data * shrinkage\n",
    "        \n",
    "        optimizer.step()\n",
    "        \n",
    "        loss_data += loss.item()\n",
    "        predict = logits.max(1)[1]\n",
    "        y_true = np.array(label)\n",
    "        y_pred = np.array(predict)\n",
    "        \n",
    "        correct = (y_true == y_pred).sum()\n",
    "        total = len(y_true)\n",
    "        \n",
    "        if (k + 1) % 1000 == 0:\n",
    "            print('epoch %d, batches %d|%d, train-acc %.3f, loss %.3f, para-norm %.3f, grad-norm %.3f,' %\n",
    "                            (i, k + 1, batch_count, correct / total, loss_data, para_norm, grad_norm))\n",
    "        \n",
    "    de_att.eval()\n",
    "    dev_true, dev_pred, dev_loss = de_att.evaluate(de_att, devloader, lossfunc)\n",
    "    dev_acc = accuracy_score(dev_true, dev_pred)\n",
    "    print('epoch %d, dev_loss %.3f, dec_acc %.3f' % (i, dev_loss, dev_acc))"
   ]
  },
  {
   "cell_type": "code",
   "execution_count": null,
   "metadata": {},
   "outputs": [],
   "source": [
    "epoch 0, batches 1000|17168, train-acc 0.469, loss 0.951, para-norm 1625.679, grad-norm 0.433,\n",
    "\n",
    "1995it [00:46, 42.98it/s]\n",
    "\n",
    "epoch 0, batches 2000|17168, train-acc 0.500, loss 0.935, para-norm 1820.652, grad-norm 0.417,\n",
    "\n",
    "2998it [01:10, 42.52it/s]\n",
    "\n",
    "epoch 0, batches 3000|17168, train-acc 0.625, loss 0.886, para-norm 1874.947, grad-norm 0.448,\n",
    "\n",
    "3997it [01:33, 42.63it/s]\n",
    "\n",
    "epoch 0, batches 4000|17168, train-acc 0.594, loss 0.881, para-norm 2009.919, grad-norm 1.403,\n",
    "\n",
    "4997it [01:56, 42.77it/s]\n",
    "\n",
    "epoch 0, batches 5000|17168, train-acc 0.625, loss 0.893, para-norm 2093.544, grad-norm 1.546,\n",
    "\n",
    "5997it [02:20, 42.82it/s]\n",
    "\n",
    "epoch 0, batches 6000|17168, train-acc 0.656, loss 0.859, para-norm 2144.974, grad-norm 0.512,\n",
    "\n",
    "6998it [02:43, 42.69it/s]\n",
    "\n",
    "epoch 0, batches 7000|17168, train-acc 0.531, loss 1.025, para-norm 2233.912, grad-norm 1.993,\n"
   ]
  }
 ],
 "metadata": {
  "kernelspec": {
   "display_name": "Python 3",
   "language": "python",
   "name": "python3"
  },
  "language_info": {
   "codemirror_mode": {
    "name": "ipython",
    "version": 3
   },
   "file_extension": ".py",
   "mimetype": "text/x-python",
   "name": "python",
   "nbconvert_exporter": "python",
   "pygments_lexer": "ipython3",
   "version": "3.6.2"
  }
 },
 "nbformat": 4,
 "nbformat_minor": 2
}
